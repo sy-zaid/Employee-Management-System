{
 "cells": [
  {
   "cell_type": "markdown",
   "metadata": {},
   "source": [
    "### TASK - 1 | Solve 8- Puzzle problem:\n",
    "- Consist of 3 × 3 board with eight numbered tiles and a blank space.\n",
    "- A tile adjacent to the blank space can slide into the space.\n",
    "- The objective is to reach a specified goal state, such as the one shown in the discussion above."
   ]
  },
  {
   "cell_type": "code",
   "execution_count": 6,
   "metadata": {},
   "outputs": [
    {
     "name": "stdout",
     "output_type": "stream",
     "text": [
      "deque([([[2, 3, 6], [1, 5, None], [4, 7, 8]], [])])\n",
      "Steps to reach the goal state:\n",
      "Step 1: Move blank space to position (0, 2)\n",
      "Step 2: Move blank space to position (0, 1)\n",
      "Step 3: Move blank space to position (0, 0)\n",
      "Step 4: Move blank space to position (1, 0)\n",
      "Step 5: Move blank space to position (2, 0)\n",
      "Step 6: Move blank space to position (2, 1)\n",
      "Step 7: Move blank space to position (2, 2)\n"
     ]
    }
   ],
   "source": [
    "from collections import deque\n",
    "\n",
    "goal_state = [[1, 2, 3],\n",
    "              [4, 5, 6],\n",
    "              [7, 8, None]] \n",
    "\n",
    "moves = [(0, 1), (0, -1), (1, 0), (-1, 0)] \n",
    "\n",
    "\n",
    "def get_blank_pos(state):\n",
    "    \"\"\"Function to find the position of the blank space in the puzzle.\"\"\"\n",
    "    for i in range(3):\n",
    "        for j in range(3):\n",
    "            if state[i][j] is None:\n",
    "                return i, j\n",
    "\n",
    "\n",
    "def valid_move(x, y):\n",
    "    return 0 <= x < 3 and 0 <= y < 3\n",
    "\n",
    "\n",
    "def bfs(initial_state):\n",
    "    queue = deque([(initial_state, [])])  # (state, path)\n",
    "    visited = set()\n",
    "    print(queue)\n",
    "\n",
    "    while queue:\n",
    "        state, path = queue.popleft()\n",
    "        if state == goal_state:\n",
    "            return path\n",
    "        visited.add(tuple(map(tuple, state)))\n",
    "\n",
    "        # Find the position of the blank space\n",
    "        blank_x, blank_y = get_blank_pos(state)\n",
    "\n",
    "        # Generate possible moves\n",
    "        for dx, dy in moves:\n",
    "            new_x, new_y = blank_x + dx, blank_y + dy\n",
    "            if valid_move(new_x, new_y):\n",
    "                new_state = [row[:] for row in state]  # Deep copy\n",
    "\n",
    "                # Swap the blank space with the adjacent tile\n",
    "                new_state[blank_x][blank_y], new_state[new_x][new_y] = new_state[new_x][new_y], new_state[blank_x][blank_y]\n",
    "                \n",
    "                if tuple(map(tuple, new_state)) not in visited:\n",
    "                    queue.append((new_state, path + [(new_x, new_y)]))\n",
    "                    visited.add(tuple(map(tuple, new_state)))\n",
    "\n",
    "    return None  # If no solution found\n",
    "\n",
    "\n",
    "def print_solution(path):\n",
    "    \"\"\"Prints the solution path.\"\"\"\n",
    "    if path:\n",
    "        print(\"Steps to reach the goal state:\")\n",
    "        for step, (x, y) in enumerate(path):\n",
    "            print(f\"Step {step + 1}: Move blank space to position ({x}, {y})\")\n",
    "    else:\n",
    "        print(\"No solution found!\")\n",
    "\n",
    "initial_state = [[2, 3, 6],\n",
    "                 [1, 5, None],\n",
    "                 [4, 7, 8]]\n",
    "\n",
    "solution_path = bfs(initial_state)\n",
    "print_solution(solution_path)\n"
   ]
  },
  {
   "cell_type": "markdown",
   "metadata": {},
   "source": [
    "### TASK - 2 | Solve depth first search and breadth first search of given graph starting from node A and reaching goal node G:"
   ]
  },
  {
   "cell_type": "code",
   "execution_count": 5,
   "metadata": {},
   "outputs": [
    {
     "name": "stdout",
     "output_type": "stream",
     "text": [
      "Depth-first search path: ['A', 'D', 'G']\n",
      "Breadth-first search path: ['A', 'D', 'G']\n"
     ]
    }
   ],
   "source": [
    "graph = {\n",
    "    'A': ['B', 'D'],\n",
    "    'B': ['C', 'E'],\n",
    "    'D': ['E', 'G', 'H'],\n",
    "    'E': ['C', 'F'],\n",
    "    'G': ['H']\n",
    "}\n",
    "\n",
    "def dfs(graph, start, goal, visited=None):\n",
    "    if visited is None:\n",
    "        visited = set()\n",
    "    visited.add(start)\n",
    "    if start == goal:\n",
    "        return [start]\n",
    "    for neighbor in graph.get(start, []):\n",
    "        if neighbor not in visited:\n",
    "            path = dfs(graph, neighbor, goal, visited)\n",
    "            if path:\n",
    "                return [start] + path\n",
    "    return []\n",
    "\n",
    "def bfs(graph, start, goal):\n",
    "    queue = [[start]]\n",
    "    visited = set()\n",
    "\n",
    "    while queue:\n",
    "        path = queue.pop(0)\n",
    "        node = path[-1]\n",
    "        if node == goal:\n",
    "            return path\n",
    "        if node not in visited:\n",
    "            visited.add(node)\n",
    "            for neighbor in graph.get(node, []):\n",
    "                new_path = list(path)\n",
    "                new_path.append(neighbor)\n",
    "                queue.append(new_path)\n",
    "\n",
    "start_node = 'A'\n",
    "goal_node = 'G'\n",
    "\n",
    "dfs_path = dfs(graph, start_node, goal_node)\n",
    "print(\"Depth-first search path:\", dfs_path)\n",
    "\n",
    "\n",
    "bfs_path = bfs(graph, start_node, goal_node)\n",
    "print(\"Breadth-first search path:\", bfs_path)\n",
    "\n"
   ]
  }
 ],
 "metadata": {
  "kernelspec": {
   "display_name": "Python 3 (ipykernel)",
   "language": "python",
   "name": "python3"
  },
  "language_info": {
   "codemirror_mode": {
    "name": "ipython",
    "version": 3
   },
   "file_extension": ".py",
   "mimetype": "text/x-python",
   "name": "python",
   "nbconvert_exporter": "python",
   "pygments_lexer": "ipython3",
   "version": "3.11.5"
  }
 },
 "nbformat": 4,
 "nbformat_minor": 2
}
