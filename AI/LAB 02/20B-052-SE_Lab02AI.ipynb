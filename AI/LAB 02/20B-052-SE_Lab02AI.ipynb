{
 "cells": [
  {
   "cell_type": "code",
   "execution_count": 1,
   "metadata": {},
   "outputs": [
    {
     "name": "stdout",
     "output_type": "stream",
     "text": [
      "A\n"
     ]
    }
   ],
   "source": [
    "def printme(a):\n",
    "    print(a)\n",
    "    return\n",
    "\n",
    "printme('A')"
   ]
  },
  {
   "cell_type": "code",
   "execution_count": 2,
   "metadata": {},
   "outputs": [
    {
     "name": "stdout",
     "output_type": "stream",
     "text": [
      "A\n"
     ]
    }
   ],
   "source": [
    "def printme(a):\n",
    "    print(a)\n",
    "printme('A')"
   ]
  },
  {
   "cell_type": "code",
   "execution_count": 6,
   "metadata": {},
   "outputs": [
    {
     "name": "stdout",
     "output_type": "stream",
     "text": [
      "Splitted List: ['Coding', 'Coding', '', '', 'with', 'Syed', 'Muhammad', 'Zaid', '']\n",
      "Num of Words:6\n",
      "Num of chars:32\n",
      "Unique Words:['Coding', 'with', 'Syed', 'Muhammad', 'Zaid']\n",
      "3.5555555555555554\n"
     ]
    }
   ],
   "source": [
    "def analyzeSentence(sentence):\n",
    "    \"\"\"total num of words,total num of chars(no spaces),avg word len,unique words \"\"\"\n",
    "    splitted_list = sentence.split(\" \")\n",
    "    numwords = []\n",
    "    words = []\n",
    "    unique_words = []\n",
    "    numchars = 0\n",
    "    avg_words_len = []\n",
    "    print(\"Splitted List:\",splitted_list)\n",
    "    for elem in splitted_list:\n",
    "        curelem = elem.strip()\n",
    "        avg_words_len.append(len(curelem))\n",
    "        if curelem.isalpha():\n",
    "            words.append(curelem)\n",
    "            if curelem not in unique_words:\n",
    "                unique_words.append(elem)\n",
    "    \n",
    "    for word in words:\n",
    "        for chars in word:\n",
    "            numchars += 1\n",
    "    \n",
    "    \n",
    "            \n",
    "    print(f\"Num of Words:{len(words)}\\nNum of chars:{numchars}\\nUnique Words:{unique_words}\\n{(sum(avg_words_len))/len(avg_words_len)}\")\n",
    "            \n",
    "    \n",
    "\n",
    "analyzeSentence(\"Coding Coding   with Syed Muhammad Zaid \")"
   ]
  },
  {
   "cell_type": "code",
   "execution_count": 18,
   "metadata": {},
   "outputs": [
    {
     "name": "stdout",
     "output_type": "stream",
     "text": [
      "[93, 63, 47, 34, 24, 91, 73, 52, 44, 31, 98, 51, 11, 60, 5, 15, 61, 99, 12, 14, 19, 55, 30, 77, 40, 6, 33, 80, 97, 79, 29, 96, 64, 71, 35, 50, 75, 37, 4, 89, 20, 92, 84, 83, 26, 65, 46, 49, 81, 7, 82, 85, 0, 69, 25, 72, 95, 45, 23, 66, 9, 67, 41, 56, 86, 13, 2, 18, 16, 76, 57, 43, 27, 8, 59, 3, 74, 39, 58, 42, 62, 94, 10, 32, 38, 21, 48, 68, 53, 1, 90, 28, 54, 36, 70, 87, 78, 88, 17, 22, 11]\n",
      "Mean: 49\n",
      "Median: 49\n",
      "Mode: 11\n",
      "Standard Deviation: 29.119164523973854\n",
      "Range: 99\n"
     ]
    }
   ],
   "source": [
    "import random\n",
    "from statistics import stdev,mode\n",
    "numerical_data = []\n",
    "for i in range(100):\n",
    "    numerical_data.append(i)\n",
    "random.shuffle(numerical_data)\n",
    "numerical_data.append(11)\n",
    "print(numerical_data)\n",
    "sorted_data = sorted(numerical_data)\n",
    "\n",
    "def data_analysis(numerical_data):\n",
    "    \"\"\"calculate the mean median mode standard deviation and range in seperate functions\"\"\"\n",
    "    def calcMean():\n",
    "        res_mean = sum(numerical_data)//len(numerical_data)\n",
    "        return res_mean\n",
    "\n",
    "    def calcMedian():\n",
    "        return sorted_data[len(sorted_data)//2]\n",
    "    \n",
    "    def calcMode():\n",
    "        #repeated_val_count = 0\n",
    "        #repeated_val = numerical_data[0]\n",
    "        #for item in numerical_data:\n",
    "        return mode(numerical_data)\n",
    "    def calcRange():\n",
    "        return sorted_data[-1] - sorted_data[0]\n",
    "            \n",
    "            \n",
    "\n",
    "    print(f\"Mean: {calcMean()}\\nMedian: {calcMedian()}\\nMode: {calcMode()}\\nStandard Deviation: {stdev(numerical_data)}\\nRange: {calcRange()}\")\n",
    "\n",
    "data_analysis(numerical_data)"
   ]
  },
  {
   "cell_type": "code",
   "execution_count": null,
   "metadata": {},
   "outputs": [],
   "source": [
    "class Bank:\n",
    "    def __init__(self,bank_name,bank_address):\n",
    "        self.bank_name = bank_name\n",
    "        self.bank_address = bank_address\n",
    "        self._customers_data = {}\n",
    "        \n",
    "    def openCustomerAccount(self):\n",
    "        customer_name = input(\"Enter Customer Name: \")\n",
    "        customer_address = input(\"Enter Customer Address: \")\n",
    "        customer_CNIC = input(\"Enter Customer CNIC: \")\n",
    "        \n",
    "        customers_data.append()\n",
    "        \n",
    "    def displayAccounts(self):\n",
    "        inp_name = input(\"Enter a name to find account\")\n",
    "        for each_account in self._customers_data:\n",
    "            if each_account[\"customer_name\"] == inp_name:\n",
    "                return [each_account[\"customer_name\"],each_account[\"customer_address\"],each_account[\"customer_CNIC\"]]\n",
    "\n",
    "class Customer(Bank):\n",
    "       \n",
    "    def openCustomerAccount(self):\n",
    "        customer_name = input(\"Enter Customer Name: \")\n",
    "        customer_address = input(\"Enter Customer Address: \")\n",
    "        customer_CNIC = input(\"Enter Customer CNIC: \")\n",
    "        \n",
    "        self._customers_data.append({\"customer_name\":customer_name,\"customer_address\":customer_address,\"customer_CNIC\":customer_CNIC})        \n",
    "\n",
    "bank = Bank(\"HBL\",\"Gulshan\")        \n",
    "Customer_1 = Customer()\n",
    "Customer_1.openCustomerAccount()\n",
    "bank.displayAccounts()"
   ]
  }
 ],
 "metadata": {
  "kernelspec": {
   "display_name": "Python 3",
   "language": "python",
   "name": "python3"
  },
  "language_info": {
   "codemirror_mode": {
    "name": "ipython",
    "version": 3
   },
   "file_extension": ".py",
   "mimetype": "text/x-python",
   "name": "python",
   "nbconvert_exporter": "python",
   "pygments_lexer": "ipython3",
   "version": "3.6.4"
  }
 },
 "nbformat": 4,
 "nbformat_minor": 2
}
